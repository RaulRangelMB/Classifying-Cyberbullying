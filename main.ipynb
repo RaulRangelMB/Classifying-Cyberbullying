{
 "cells": [
  {
   "cell_type": "markdown",
   "metadata": {},
   "source": [
    "Imports"
   ]
  },
  {
   "cell_type": "code",
   "execution_count": 2,
   "metadata": {},
   "outputs": [],
   "source": [
    "import re\n",
    "import numpy as np\n",
    "import pandas as pd\n",
    "from joblib import Parallel, delayed\n",
    "from nltk.stem import WordNetLemmatizer\n",
    "from sklearn.pipeline import Pipeline\n",
    "from sklearn.linear_model import LogisticRegression\n",
    "from sklearn.feature_extraction.text import CountVectorizer\n",
    "from sklearn.model_selection import train_test_split\n",
    "from sklearn.metrics import accuracy_score\n",
    "from sklearn.decomposition import NMF\n",
    "import matplotlib.pyplot as plt"
   ]
  },
  {
   "cell_type": "markdown",
   "metadata": {},
   "source": [
    "Reading csv and removing words that start with @'s"
   ]
  },
  {
   "cell_type": "code",
   "execution_count": 3,
   "metadata": {},
   "outputs": [],
   "source": [
    "df = pd.read_csv(\"cyberbullying_tweets.csv\")\n",
    "def clean_text(text):\n",
    "    return re.sub(r'[@]\\w+', '', text)\n",
    "\n",
    "df['tweet_text_clean'] = df['tweet_text'].apply(clean_text)"
   ]
  },
  {
   "cell_type": "markdown",
   "metadata": {},
   "source": [
    "Lemmatization"
   ]
  },
  {
   "cell_type": "code",
   "execution_count": 4,
   "metadata": {},
   "outputs": [],
   "source": [
    "X = df['tweet_text_clean']\n",
    "y = df['cyberbullying_type']\n",
    "\n",
    "lemmatizer = WordNetLemmatizer()\n",
    "X_lemmatized = X.apply(lambda x: ' '.join([lemmatizer.lemmatize(p) for p in x.lower().split()]))"
   ]
  },
  {
   "cell_type": "markdown",
   "metadata": {},
   "source": [
    "Preparing function to run model"
   ]
  },
  {
   "cell_type": "code",
   "execution_count": null,
   "metadata": {},
   "outputs": [],
   "source": [
    "def run_model(random_state_value):\n",
    "    X_train, X_test, y_train, y_test = train_test_split(X_lemmatized, y, test_size=0.2, shuffle=True, random_state=random_state_value)\n",
    "    pipe = Pipeline([('vectorizer', CountVectorizer()), ('model', LogisticRegression(max_iter=1000))])\n",
    "    pipe.fit(X_train, y_train)\n",
    "    y_pred = pipe.predict(X_test)\n",
    "    return accuracy_score(y_test, y_pred), pipe"
   ]
  },
  {
   "cell_type": "markdown",
   "metadata": {},
   "source": [
    "Running models and printing accuracies"
   ]
  },
  {
   "cell_type": "code",
   "execution_count": null,
   "metadata": {},
   "outputs": [],
   "source": [
    "n_runs = 10\n",
    "\n",
    "results = Parallel(n_jobs=-1)(delayed(run_model)(i) for i in range(n_runs))\n",
    "\n",
    "accuracies = [result[0] for result in results]\n",
    "pipelines = [result[1] for result in results]\n",
    "\n",
    "accuracies = np.array(accuracies)\n",
    "\n",
    "print(f'Accuracies {accuracies}')\n",
    "print(f'Mean Accuracy {np.mean(accuracies)}')\n",
    "\n",
    "closest_index = np.abs(accuracies - np.mean(accuracies)).argmin()\n",
    "pipe = pipelines[closest_index]\n",
    "closest_accuracy = accuracies[closest_index]\n",
    "\n",
    "print(f\"\\nClosest Accuracy {closest_accuracy})\")"
   ]
  },
  {
   "cell_type": "markdown",
   "metadata": {},
   "source": [
    "Seeing most relevant words for each class"
   ]
  },
  {
   "cell_type": "code",
   "execution_count": null,
   "metadata": {},
   "outputs": [],
   "source": [
    "words = pipe['vectorizer'].get_feature_names_out()\n",
    "coefs = pipe['model'].coef_\n",
    "classes = pipe['model'].classes_\n",
    "\n",
    "sorted_coef_indexes = coefs.argsort(axis=1)\n",
    "\n",
    "for i, classe in enumerate(classes):\n",
    "    print(\"\\n\", classe)\n",
    "    top5words = words[sorted_coef_indexes[i, -5:]]\n",
    "    print(\" -> \",end=\"\")\n",
    "    print(\", \".join(top5words))\n",
    "    #top5coefs = coefs[i, sorted_coef_indexes[i, -5:]]\n",
    "    # print(top5coefs)"
   ]
  },
  {
   "cell_type": "markdown",
   "metadata": {},
   "source": [
    "Assessing dataset size"
   ]
  },
  {
   "cell_type": "code",
   "execution_count": null,
   "metadata": {},
   "outputs": [],
   "source": [
    "train_accuracies = []\n",
    "test_accuracies = []\n",
    "num_samples = 100\n",
    "dataset_fractions = [x for x in np.linspace(0.1, 1, 100)]\n",
    "\n",
    "for frac in dataset_fractions:\n",
    "    df_sampled = df.sample(frac=frac, random_state=42)\n",
    "\n",
    "    X = df_sampled['tweet_text_clean']\n",
    "    y = df_sampled['cyberbullying_type']\n",
    "\n",
    "    X_lemmatized = X.apply(lambda x: ' '.join([lemmatizer.lemmatize(p) for p in x.lower().split()]))\n",
    "\n",
    "    X_train, X_test, y_train, y_test = train_test_split(X_lemmatized, y, test_size=0.2, random_state=42)\n",
    "    \n",
    "    pipe = Pipeline([('vectorizer', CountVectorizer(stop_words='english')), ('model', LogisticRegression(max_iter=1000))])\n",
    "    \n",
    "    pipe.fit(X_train, y_train)\n",
    "    \n",
    "    train_accuracy = accuracy_score(y_train, pipe.predict(X_train))\n",
    "    test_accuracy = accuracy_score(y_test, pipe.predict(X_test))\n",
    "    \n",
    "    train_accuracies.append(train_accuracy)\n",
    "    test_accuracies.append(test_accuracy)"
   ]
  },
  {
   "cell_type": "code",
   "execution_count": null,
   "metadata": {},
   "outputs": [],
   "source": [
    "plt.plot(dataset_fractions, train_accuracies, label='Train Accuracy')\n",
    "plt.plot(dataset_fractions, test_accuracies, label='Test Accuracy')\n",
    "plt.xlabel('Dataset Fraction')\n",
    "plt.ylabel('Accuracy')\n",
    "plt.title('Learning Curve')\n",
    "plt.legend()\n",
    "plt.show()"
   ]
  },
  {
   "cell_type": "markdown",
   "metadata": {},
   "source": [
    "Preparing to find topics"
   ]
  },
  {
   "cell_type": "code",
   "execution_count": 22,
   "metadata": {},
   "outputs": [],
   "source": [
    "def print_words_in_topics(nmf, vectorizer):\n",
    "    words = vectorizer.get_feature_names_out()\n",
    "    for idx, topic in enumerate(nmf.components_):\n",
    "        print(f\"Topic {idx}\")\n",
    "        for i in topic.argsort()[-5:]:\n",
    "            print(words[i])\n",
    "        print()\n",
    "    print()"
   ]
  },
  {
   "cell_type": "markdown",
   "metadata": {},
   "source": [
    "Creating the topics pipeline"
   ]
  },
  {
   "cell_type": "code",
   "execution_count": null,
   "metadata": {},
   "outputs": [],
   "source": [
    "vectorizer_nmf_pipeline = Pipeline([('vectorizer', CountVectorizer(binary=True, stop_words='english')), ('nmf', NMF(n_components=6))])\n",
    "X_nmf = vectorizer_nmf_pipeline.fit_transform(df['tweet_text_clean'])"
   ]
  },
  {
   "cell_type": "markdown",
   "metadata": {},
   "source": [
    "Analysing topics"
   ]
  },
  {
   "cell_type": "code",
   "execution_count": null,
   "metadata": {},
   "outputs": [],
   "source": [
    "print_words_in_topics(vectorizer_nmf_pipeline['nmf'], vectorizer_nmf_pipeline['vectorizer'])"
   ]
  }
 ],
 "metadata": {
  "kernelspec": {
   "display_name": "Python 3",
   "language": "python",
   "name": "python3"
  },
  "language_info": {
   "codemirror_mode": {
    "name": "ipython",
    "version": 3
   },
   "file_extension": ".py",
   "mimetype": "text/x-python",
   "name": "python",
   "nbconvert_exporter": "python",
   "pygments_lexer": "ipython3",
   "version": "3.12.4"
  }
 },
 "nbformat": 4,
 "nbformat_minor": 2
}
