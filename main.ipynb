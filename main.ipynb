{
 "cells": [
  {
   "cell_type": "code",
   "execution_count": 2,
   "metadata": {},
   "outputs": [],
   "source": [
    "import re\n",
    "import numpy as np\n",
    "import pandas as pd\n",
    "from joblib import Parallel, delayed\n",
    "from nltk.stem import WordNetLemmatizer\n",
    "from sklearn.pipeline import Pipeline\n",
    "from sklearn.linear_model import LogisticRegression\n",
    "from sklearn.feature_extraction.text import CountVectorizer\n",
    "from sklearn.model_selection import train_test_split\n",
    "from sklearn.metrics import accuracy_score\n",
    "from sklearn.decomposition import NMF"
   ]
  },
  {
   "cell_type": "code",
   "execution_count": 3,
   "metadata": {},
   "outputs": [],
   "source": [
    "df = pd.read_csv(\"cyberbullying_tweets.csv\")\n",
    "def clean_text(text):\n",
    "    return re.sub(r'[@]\\w+', '', text)\n",
    "\n",
    "df['tweet_text_clean'] = df['tweet_text'].apply(clean_text)"
   ]
  },
  {
   "cell_type": "code",
   "execution_count": 4,
   "metadata": {},
   "outputs": [],
   "source": [
    "X = df['tweet_text_clean']\n",
    "y = df['cyberbullying_type']\n",
    "\n",
    "lemmatizer = WordNetLemmatizer()\n",
    "X_lemmatized = X.apply(lambda x: ' '.join([lemmatizer.lemmatize(p) for p in x.lower().split()]))"
   ]
  },
  {
   "cell_type": "code",
   "execution_count": 5,
   "metadata": {},
   "outputs": [
    {
     "name": "stdout",
     "output_type": "stream",
     "text": [
      "Accuracies over 10 runs: [0.8260824  0.82838872 0.8190586  0.81727644 0.8257679  0.8190586\n",
      " 0.81570395 0.82293741 0.82755006 0.82524374]\n",
      "Mean Accuracy: 0.8227067826816228\n",
      "Standard Deviation: 0.004337544644101728\n",
      "\n",
      "Closest Pipeline Accuracy: 0.8229374148233567 (Run: 8)\n"
     ]
    }
   ],
   "source": [
    "def run_model(random_state_value):\n",
    "    X_train, X_test, y_train, y_test = train_test_split(X_lemmatized, y, test_size=0.2, shuffle=True, random_state=random_state_value)\n",
    "    pipe = Pipeline([('vectorizer', CountVectorizer()), ('model', LogisticRegression(max_iter=1000))])\n",
    "    pipe.fit(X_train, y_train)\n",
    "    y_pred = pipe.predict(X_test)\n",
    "    return accuracy_score(y_test, y_pred), pipe\n",
    "\n",
    "n_runs = 10\n",
    "\n",
    "results = Parallel(n_jobs=-1)(delayed(run_model)(i) for i in range(n_runs))\n",
    "\n",
    "accuracies = [result[0] for result in results]\n",
    "pipelines = [result[1] for result in results]\n",
    "\n",
    "accuracies = np.array(accuracies)\n",
    "\n",
    "print(f'Accuracies over {n_runs} runs: {accuracies}')\n",
    "print(f'Mean Accuracy: {np.mean(accuracies)}')\n",
    "print(f'Standard Deviation: {np.std(accuracies)}')\n",
    "\n",
    "closest_index = np.abs(accuracies - np.mean(accuracies)).argmin()\n",
    "pipe = pipelines[closest_index]\n",
    "closest_accuracy = accuracies[closest_index]\n",
    "\n",
    "print(f\"\\nClosest Pipeline Accuracy: {closest_accuracy} (Run: {closest_index + 1})\")"
   ]
  },
  {
   "cell_type": "code",
   "execution_count": 21,
   "metadata": {},
   "outputs": [
    {
     "name": "stdout",
     "output_type": "stream",
     "text": [
      "\n",
      " age\n",
      " -> schools, bullied, bullies, bully, school\n",
      "\n",
      " ethnicity\n",
      " -> coon, dumb, colored, nigga, nigger\n",
      "\n",
      " gender\n",
      " -> female, sexist, notsexist, rape, feminazi\n",
      "\n",
      " not_cyberbullying\n",
      " -> daesh, mosul, andre, beatdown, mkr\n",
      "\n",
      " other_cyberbullying\n",
      " -> harassment, code, bullied, idiot, blameonenotall\n",
      "\n",
      " religion\n",
      " -> muslims, mohammed, islam, muslim, christian\n"
     ]
    }
   ],
   "source": [
    "words = pipe['vectorizer'].get_feature_names_out()\n",
    "coefs = pipe['model'].coef_\n",
    "classes = pipe['model'].classes_\n",
    "\n",
    "sorted_coef_indexes = coefs.argsort(axis=1)\n",
    "\n",
    "for i, classe in enumerate(classes):\n",
    "    print(\"\\n\", classe)\n",
    "    top5words = words[sorted_coef_indexes[i, -5:]]\n",
    "    print(\" -> \",end=\"\")\n",
    "    print(\", \".join(top5words))\n",
    "    #top5coefs = coefs[i, sorted_coef_indexes[i, -5:]]\n",
    "    # print(top5coefs)"
   ]
  },
  {
   "cell_type": "code",
   "execution_count": 22,
   "metadata": {},
   "outputs": [],
   "source": [
    "def print_words_in_topics(nmf, vectorizer):\n",
    "    words = vectorizer.get_feature_names_out()\n",
    "    for idx, topic in enumerate(nmf.components_):\n",
    "        print(f\"Topic {idx}\")\n",
    "        for i in topic.argsort()[-5:]:\n",
    "            print(words[i])\n",
    "        print()\n",
    "    print()\n",
    "    \n",
    "vectorizer_nmf_pipeline = Pipeline([('vectorizer', CountVectorizer(binary=True, stop_words='english')),\n",
    "                                    ('nmf', NMF(n_components=6))])\n",
    "X_nmf = vectorizer_nmf_pipeline.fit_transform(df['tweet_text_clean'])"
   ]
  },
  {
   "cell_type": "code",
   "execution_count": 22,
   "metadata": {},
   "outputs": [
    {
     "name": "stdout",
     "output_type": "stream",
     "text": [
      "Topic 0\n",
      "girls\n",
      "girl\n",
      "school\n",
      "bullied\n",
      "high\n",
      "\n",
      "Topic 1\n",
      "obama\n",
      "ass\n",
      "nigger\n",
      "dumb\n",
      "fuck\n",
      "\n",
      "Topic 2\n",
      "funny\n",
      "joke\n",
      "jokes\n",
      "gay\n",
      "rape\n",
      "\n",
      "Topic 3\n",
      "muslims\n",
      "just\n",
      "don\n",
      "people\n",
      "like\n",
      "\n",
      "Topic 4\n",
      "middle\n",
      "like\n",
      "bullies\n",
      "school\n",
      "bully\n",
      "\n",
      "Topic 5\n",
      "women\n",
      "sexist\n",
      "mkr\n",
      "http\n",
      "rt\n",
      "\n",
      "\n"
     ]
    }
   ],
   "source": [
    "print_words_in_topics(vectorizer_nmf_pipeline['nmf'], vectorizer_nmf_pipeline['vectorizer'])"
   ]
  }
 ],
 "metadata": {
  "kernelspec": {
   "display_name": "Python 3",
   "language": "python",
   "name": "python3"
  },
  "language_info": {
   "codemirror_mode": {
    "name": "ipython",
    "version": 3
   },
   "file_extension": ".py",
   "mimetype": "text/x-python",
   "name": "python",
   "nbconvert_exporter": "python",
   "pygments_lexer": "ipython3",
   "version": "3.12.4"
  }
 },
 "nbformat": 4,
 "nbformat_minor": 2
}
