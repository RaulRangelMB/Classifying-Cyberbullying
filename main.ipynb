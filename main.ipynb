{
 "cells": [
  {
   "cell_type": "markdown",
   "metadata": {},
   "source": [
    "Imports"
   ]
  },
  {
   "cell_type": "code",
   "execution_count": 33,
   "metadata": {},
   "outputs": [],
   "source": [
    "import re\n",
    "import numpy as np\n",
    "import pandas as pd\n",
    "from joblib import Parallel, delayed\n",
    "from nltk.stem import WordNetLemmatizer\n",
    "from sklearn.pipeline import Pipeline\n",
    "from sklearn.linear_model import LogisticRegression\n",
    "from sklearn.feature_extraction.text import CountVectorizer\n",
    "from sklearn.model_selection import train_test_split\n",
    "from sklearn.metrics import accuracy_score\n",
    "from sklearn.decomposition import NMF\n",
    "import matplotlib.pyplot as plt"
   ]
  },
  {
   "cell_type": "markdown",
   "metadata": {},
   "source": [
    "Reading csv and removing words that start with @'s"
   ]
  },
  {
   "cell_type": "code",
   "execution_count": 34,
   "metadata": {},
   "outputs": [],
   "source": [
    "df = pd.read_csv(\"cyberbullying_tweets.csv\")\n",
    "def clean_text(text):\n",
    "    return re.sub(r'[@]\\w+', '', text)\n",
    "\n",
    "df['tweet_text_clean'] = df['tweet_text'].apply(clean_text)"
   ]
  },
  {
   "cell_type": "markdown",
   "metadata": {},
   "source": [
    "Lemmatization"
   ]
  },
  {
   "cell_type": "code",
   "execution_count": 35,
   "metadata": {},
   "outputs": [],
   "source": [
    "X = df['tweet_text_clean']\n",
    "y = df['cyberbullying_type']\n",
    "\n",
    "lemmatizer = WordNetLemmatizer()\n",
    "X_lemmatized = X.apply(lambda x: ' '.join([lemmatizer.lemmatize(p) for p in x.lower().split()]))"
   ]
  },
  {
   "cell_type": "markdown",
   "metadata": {},
   "source": [
    "Preparing function to run model"
   ]
  },
  {
   "cell_type": "code",
   "execution_count": 36,
   "metadata": {},
   "outputs": [],
   "source": [
    "def run_model(random_state_value):\n",
    "    X_train, X_test, y_train, y_test = train_test_split(X_lemmatized, y, test_size=0.2, shuffle=True, random_state=random_state_value)\n",
    "    pipe = Pipeline([('vectorizer', CountVectorizer()), ('model', LogisticRegression(max_iter=1000))])\n",
    "    pipe.fit(X_train, y_train)\n",
    "    y_pred = pipe.predict(X_test)\n",
    "    return accuracy_score(y_test, y_pred), pipe"
   ]
  },
  {
   "cell_type": "markdown",
   "metadata": {},
   "source": [
    "Running models and printing accuracies"
   ]
  },
  {
   "cell_type": "code",
   "execution_count": null,
   "metadata": {},
   "outputs": [],
   "source": [
    "n_runs = 10\n",
    "\n",
    "results = Parallel(n_jobs=-1)(delayed(run_model)(i) for i in range(n_runs))\n",
    "\n",
    "accuracies = [result[0] for result in results]\n",
    "pipelines = [result[1] for result in results]\n",
    "\n",
    "accuracies = np.array(accuracies)\n",
    "\n",
    "print(f'Accuracies {accuracies}')\n",
    "print(f'Mean Accuracy {np.mean(accuracies)}')\n",
    "\n",
    "closest_index = np.abs(accuracies - np.mean(accuracies)).argmin()\n",
    "pipe = pipelines[closest_index]\n",
    "closest_accuracy = accuracies[closest_index]\n",
    "\n",
    "print(f\"\\nClosest Accuracy {closest_accuracy})\")"
   ]
  },
  {
   "cell_type": "markdown",
   "metadata": {},
   "source": [
    "Seeing most relevant words for each class"
   ]
  },
  {
   "cell_type": "code",
   "execution_count": null,
   "metadata": {},
   "outputs": [],
   "source": [
    "words = pipe['vectorizer'].get_feature_names_out()\n",
    "coefs = pipe['model'].coef_\n",
    "classes = pipe['model'].classes_\n",
    "\n",
    "sorted_coef_indexes = coefs.argsort(axis=1)\n",
    "\n",
    "for i, classe in enumerate(classes):\n",
    "    print(\"\\n\", classe)\n",
    "    top5words = words[sorted_coef_indexes[i, -5:]]\n",
    "    print(\" -> \",end=\"\")\n",
    "    print(\", \".join(top5words))\n",
    "    #top5coefs = coefs[i, sorted_coef_indexes[i, -5:]]\n",
    "    # print(top5coefs)"
   ]
  },
  {
   "cell_type": "markdown",
   "metadata": {},
   "source": [
    "Assessing dataset size"
   ]
  },
  {
   "cell_type": "code",
   "execution_count": null,
   "metadata": {},
   "outputs": [],
   "source": [
    "train_accuracies = []\n",
    "test_accuracies = []\n",
    "num_samples = 100\n",
    "dataset_fractions = [x for x in np.linspace(0.1, 1, 100)]\n",
    "\n",
    "for frac in dataset_fractions:\n",
    "    df_sampled = df.sample(frac=frac, random_state=42)\n",
    "\n",
    "    X = df_sampled['tweet_text_clean']\n",
    "    y = df_sampled['cyberbullying_type']\n",
    "\n",
    "    X_lemmatized = X.apply(lambda x: ' '.join([lemmatizer.lemmatize(p) for p in x.lower().split()]))\n",
    "\n",
    "    X_train, X_test, y_train, y_test = train_test_split(X_lemmatized, y, test_size=0.2, random_state=42)\n",
    "    \n",
    "    pipe = Pipeline([('vectorizer', CountVectorizer(stop_words='english')), ('model', LogisticRegression(max_iter=1000))])\n",
    "    \n",
    "    pipe.fit(X_train, y_train)\n",
    "    \n",
    "    train_accuracy = accuracy_score(y_train, pipe.predict(X_train))\n",
    "    test_accuracy = accuracy_score(y_test, pipe.predict(X_test))\n",
    "    \n",
    "    train_accuracies.append(train_accuracy)\n",
    "    test_accuracies.append(test_accuracy)"
   ]
  },
  {
   "cell_type": "code",
   "execution_count": null,
   "metadata": {},
   "outputs": [],
   "source": [
    "plt.plot(dataset_fractions, train_accuracies, label='Train Accuracy')\n",
    "plt.plot(dataset_fractions, test_accuracies, label='Test Accuracy')\n",
    "plt.xlabel('Dataset Fraction')\n",
    "plt.ylabel('Accuracy')\n",
    "plt.title('Learning Curve')\n",
    "plt.legend()\n",
    "plt.show()"
   ]
  },
  {
   "cell_type": "markdown",
   "metadata": {},
   "source": [
    "Analysing topics"
   ]
  },
  {
   "cell_type": "code",
   "execution_count": null,
   "metadata": {},
   "outputs": [],
   "source": [
    "X_train, X_test, y_train, y_test = train_test_split(df['tweet_text_clean'], df['cyberbullying_type'], test_size=0.2, random_state=0)\n",
    "\n",
    "n_topics = 8\n",
    "vectorizer_nmf_pipeline = Pipeline([\n",
    "    ('vectorizer', CountVectorizer(binary=True, stop_words='english')),\n",
    "    ('nmf', NMF(n_components=n_topics, random_state=0))\n",
    "])\n",
    "\n",
    "X_train_topics = vectorizer_nmf_pipeline.fit_transform(X_train)\n",
    "\n",
    "def print_words_in_topics(model, vectorizer, n_words=10):\n",
    "    feature_names = vectorizer.get_feature_names_out()\n",
    "    for topic_idx, topic in enumerate(model.components_):\n",
    "        print(f\"Topic {topic_idx}: \", \" \".join([feature_names[i] for i in topic.argsort()[:-n_words - 1:-1]]))\n",
    "\n",
    "print_words_in_topics(vectorizer_nmf_pipeline['nmf'], vectorizer_nmf_pipeline['vectorizer'])"
   ]
  },
  {
   "cell_type": "code",
   "execution_count": 41,
   "metadata": {},
   "outputs": [],
   "source": [
    "X_test_topics = vectorizer_nmf_pipeline.transform(X_test)\n",
    "\n",
    "most_prominent_topics = np.argmax(X_test_topics, axis=1)"
   ]
  },
  {
   "cell_type": "code",
   "execution_count": 42,
   "metadata": {},
   "outputs": [],
   "source": [
    "topic_classifiers = {}\n",
    "\n",
    "for topic_idx in range(n_topics):\n",
    "    topic_train_mask = np.argmax(X_train_topics, axis=1) == topic_idx\n",
    "    X_train_topic = X_train[topic_train_mask]\n",
    "    y_train_topic = y_train[topic_train_mask]\n",
    "\n",
    "    classifier = Pipeline([\n",
    "        ('vectorizer', CountVectorizer(binary=True, stop_words='english')),\n",
    "        ('model', LogisticRegression(max_iter=1000))\n",
    "    ])\n",
    "    classifier.fit(X_train_topic, y_train_topic)\n",
    "\n",
    "    topic_classifiers[topic_idx] = classifier"
   ]
  },
  {
   "cell_type": "code",
   "execution_count": null,
   "metadata": {},
   "outputs": [],
   "source": [
    "from sklearn.metrics import accuracy_score\n",
    "\n",
    "topic_accuracies = []\n",
    "\n",
    "for topic_idx in range(n_topics):\n",
    "    topic_test_mask = most_prominent_topics == topic_idx\n",
    "    X_test_topic = X_test[topic_test_mask]\n",
    "    y_test_topic = y_test[topic_test_mask]\n",
    "\n",
    "    if len(X_test_topic) > 0:\n",
    "        classifier = topic_classifiers[topic_idx]\n",
    "        y_pred_topic = classifier.predict(X_test_topic)\n",
    "\n",
    "        accuracy = accuracy_score(y_test_topic, y_pred_topic)\n",
    "        topic_accuracies.append((topic_idx, accuracy))\n",
    "\n",
    "for topic_idx, accuracy in topic_accuracies:\n",
    "    print(f\"Topic {topic_idx} Accuracy: {accuracy:.2f}\")"
   ]
  },
  {
   "cell_type": "markdown",
   "metadata": {},
   "source": [
    "Combining the words print with the accuracy one"
   ]
  },
  {
   "cell_type": "code",
   "execution_count": null,
   "metadata": {},
   "outputs": [],
   "source": [
    "def print_words_in_topics(model, vectorizer, n_words=10):\n",
    "    feature_names = vectorizer.get_feature_names_out()\n",
    "    topic_names = []\n",
    "    for _, topic in enumerate(model.components_):\n",
    "        topic_name = \" \".join([feature_names[i] for i in topic.argsort()[:-n_words - 1:-1]])\n",
    "        topic_names.append(topic_name)\n",
    "    return topic_names\n",
    "\n",
    "topic_names = print_words_in_topics(vectorizer_nmf_pipeline['nmf'], vectorizer_nmf_pipeline['vectorizer'])\n",
    "\n",
    "topic_accuracies = []\n",
    "\n",
    "for topic_idx in range(n_topics):\n",
    "    topic_test_mask = most_prominent_topics == topic_idx\n",
    "    X_test_topic = X_test[topic_test_mask]\n",
    "    y_test_topic = y_test[topic_test_mask]\n",
    "\n",
    "    if len(X_test_topic) > 0:\n",
    "        classifier = topic_classifiers[topic_idx]\n",
    "        y_pred_topic = classifier.predict(X_test_topic)\n",
    "\n",
    "        accuracy = accuracy_score(y_test_topic, y_pred_topic)\n",
    "        topic_accuracies.append((topic_idx, accuracy))\n",
    "\n",
    "for topic_idx, accuracy in topic_accuracies:\n",
    "    print(f\"Topic {topic_idx} - Accuracy: {accuracy:.2f} - words: ({topic_names[topic_idx]})\")"
   ]
  }
 ],
 "metadata": {
  "kernelspec": {
   "display_name": "Python 3",
   "language": "python",
   "name": "python3"
  },
  "language_info": {
   "codemirror_mode": {
    "name": "ipython",
    "version": 3
   },
   "file_extension": ".py",
   "mimetype": "text/x-python",
   "name": "python",
   "nbconvert_exporter": "python",
   "pygments_lexer": "ipython3",
   "version": "3.12.4"
  }
 },
 "nbformat": 4,
 "nbformat_minor": 2
}
